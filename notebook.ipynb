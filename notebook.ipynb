{
 "cells": [
  {
   "cell_type": "markdown",
   "metadata": {},
   "source": [
    "<h4 style=\"text-align: right\">\n",
    "*M. Isabel Gonzalez Rosas*\n",
    "</h4>\n",
    "***"
   ]
  },
  {
   "cell_type": "markdown",
   "metadata": {},
   "source": [
    "<h1 style=\"text-align: center\"> Project 3: Investigate a Dataset - TMDB Movie Data</h1>"
   ]
  },
  {
   "cell_type": "markdown",
   "metadata": {},
   "source": [
    "## Table of Contents\n",
    "<ul>\n",
    "    <li> \n",
    "        <a href=\"#intro\">Introduction</a>\n",
    "        <ul>\n",
    "            <li><a href=\"#questions\">Possible Questions</a></li>\n",
    "            <li><a href=\"#imports\">Imports</a></li>\n",
    "        </ul>\n",
    "    </li>\n",
    "    <li>\n",
    "        <a href=\"#wrangling\">Data Wrangling</a>\n",
    "        <ul>\n",
    "            <li><a href=\"#general_properties\">General Properties</a></li>\n",
    "            <li>\n",
    "                <a href=\"#data_cleaning\">Data Cleaning</a>\n",
    "                <ul>\n",
    "                    <li>\n",
    "                        <a href=\"#checking_null\">Checking for null values</a>\n",
    "                        <ul>\n",
    "                            <li><a href=\"#drop_director\">Droping Director</a></li>\n",
    "                            <li><a href=\"#drop_cast\">Droping Cast</a></li>\n",
    "                            <li><a href=\"#drop_genre\">Droping Genre</a></li>\n",
    "                        </ul>\n",
    "                    </li>\n",
    "                    <li><a href=\"#checking_duplicates\">Checking for duplicates</a></li>\n",
    "                    <li>\n",
    "                        <a href=\"#checking_data_types\">Checking DataTypes</a>\n",
    "                        <ul>\n",
    "                            <li><a href=\"#data_types_pipes\">Pipe separated string values to list</a></li>\n",
    "                            <li><a href=\"#data_types_datetime\">Release_date to datetime type</a></li>\n",
    "                        </ul>\n",
    "                    </li>               \n",
    "                </ul>\n",
    "            </li>\n",
    "        </ul>\n",
    "    </li>\n",
    "    <li>\n",
    "        <a href=\"#eda\">Exploratory Data Analysis</a>\n",
    "        <ol>\n",
    "            <li>\n",
    "                <a href=\"#q1\">What's the relationship between popularity and vote_count, vote_average and revenue?</a>\n",
    "                <ul>\n",
    "                    <li><a href=\"#pop_v_count\">Popularity vs. vote_count?</a></li>\n",
    "                    <li><a href=\"#pop_v_average\">Popularity vs. vote_average?</a></li>\n",
    "                    <li><a href=\"#pop_revenue\">Popularity vs. revenue?</a></li>\n",
    "                    <li><a href=\"#q1_conclusion\">Conclusion</a></li>\n",
    "                </ul>\n",
    "            </li>\n",
    "            <li><a href=\"#q2\">What genre produces more revenue in average?</a></li>\n",
    "            <li><a href=\"#q3\">Which genres are most popular from year to year? </a></li>\n",
    "            <li><a href=\"#q4\">Which year produced more revenue?</a></li>\n",
    "            <li><a href=\"#q5\">What's the average revenue per genre per year?</a></li>\n",
    "            <li><a href=\"#q6\">Budget statistics</a></li>\n",
    "            \n",
    "        </ol>\n",
    "    </li>\n",
    "    <li><a href=\"#conclusions\">Conclusions</a></li>\n",
    "</ul>"
   ]
  },
  {
   "cell_type": "markdown",
   "metadata": {},
   "source": [
    "\n",
    "<a id='intro'></a>\n",
    "## Introduction\n"
   ]
  },
  {
   "cell_type": "markdown",
   "metadata": {},
   "source": [
    "The chosen dataset for this project is [TMDb movie data](https://d17h27t6h515a5.cloudfront.net/topher/2017/October/59dd1c4c_tmdb-movies/tmdb-movies.csv \"TMDb movie data\").\n",
    "<p>This data set contains information about about 10866 movies. </p>\n",
    "<p>There are 21 columns with different information about each movie such as id, [imdb_id](https://www.imdb.com/ IMDB), original title, budget, revenue, release year, etc.</p>\n",
    "<a id='questions'></a>\n",
    "### Possible questions\n",
    "1. What's the relationship between *popularity and vote_count, vote_average and revenue?\n",
    "1. What genre produces more revenue in average?\n",
    "1. Which genres are most popular from year to year? \n",
    "1. Which year produced more revenue?\n",
    "1. What's the average revenue per genre per year?\n",
    "1. Budget statistics.\n",
    "\n",
    "> *Popularity is cumulative decided by number of star ratings. [source](https://www.kaggle.com/tmdb/tmdb-movie-metadata/discussion/50548)\n"
   ]
  },
  {
   "cell_type": "markdown",
   "metadata": {},
   "source": [
    "<a id='imports'></a>\n",
    "### Imports"
   ]
  },
  {
   "cell_type": "code",
   "execution_count": 1,
   "metadata": {},
   "outputs": [],
   "source": [
    "import numpy as np\n",
    "import pandas as pd\n",
    "import matplotlib.pyplot as plt\n",
    "% matplotlib inline\n",
    "import seaborn as sns\n",
    "sns.set_style('darkgrid')\n",
    "import matplotlib.patches as mpatches #https://matplotlib.org/users/legend_guide.html"
   ]
  },
  {
   "cell_type": "markdown",
   "metadata": {},
   "source": [
    "<a id='wrangling'></a>\n",
    "## Data Wrangling"
   ]
  },
  {
   "cell_type": "markdown",
   "metadata": {},
   "source": [
    "<a id='general_properties'></a>\n",
    "### General Properties"
   ]
  },
  {
   "attachments": {
    "imagen.png": {
     "image/png": "[encoded data removed]"
    }
   },
   "cell_type": "markdown",
   "metadata": {},
   "source": [
    "![imagen.png](attachment:imagen.png)"
   ]
  },
  {
   "cell_type": "code",
   "execution_count": 2,
   "metadata": {},
   "outputs": [
    {
     "data": {
      "text/html": [
       "<div>\n",
       "<style scoped>\n",
       "    .dataframe tbody tr th:only-of-type {\n",
       "        vertical-align: middle;\n",
       "    }\n",
       "\n",
       "    .dataframe tbody tr th {\n",
       "        vertical-align: top;\n",
       "    }\n",
       "\n",
       "    .dataframe thead th {\n",
       "        text-align: right;\n",
       "    }\n",
       "</style>\n",
       "<table border=\"1\" class=\"dataframe\">\n",
       "  <thead>\n",
       "    <tr style=\"text-align: right;\">\n",
       "      <th></th>\n",
       "      <th>id</th>\n",
       "      <th>imdb_id</th>\n",
       "      <th>popularity</th>\n",
       "      <th>budget</th>\n",
       "      <th>revenue</th>\n",
       "      <th>original_title</th>\n",
       "      <th>cast</th>\n",
       "      <th>homepage</th>\n",
       "      <th>director</th>\n",
       "      <th>tagline</th>\n",
       "      <th>...</th>\n",
       "      <th>overview</th>\n",
       "      <th>runtime</th>\n",
       "      <th>genres</th>\n",
       "      <th>production_companies</th>\n",
       "      <th>release_date</th>\n",
       "      <th>vote_count</th>\n",
       "      <th>vote_average</th>\n",
       "      <th>release_year</th>\n",
       "      <th>budget_adj</th>\n",
       "      <th>revenue_adj</th>\n",
       "    </tr>\n",
       "  </thead>\n",
       "  <tbody>\n",
       "    <tr>\n",
       "      <th>0</th>\n",
       "      <td>135397</td>\n",
       "      <td>tt0369610</td>\n",
       "      <td>32.985763</td>\n",
       "      <td>150000000</td>\n",
       "      <td>1513528810</td>\n",
       "      <td>Jurassic World</td>\n",
       "      <td>Chris Pratt|Bryce Dallas Howard|Irrfan Khan|Vi...</td>\n",
       "      <td>http://www.jurassicworld.com/</td>\n",
       "      <td>Colin Trevorrow</td>\n",
       "      <td>The park is open.</td>\n",
       "      <td>...</td>\n",
       "      <td>Twenty-two years after the events of Jurassic ...</td>\n",
       "      <td>124</td>\n",
       "      <td>Action|Adventure|Science Fiction|Thriller</td>\n",
       "      <td>Universal Studios|Amblin Entertainment|Legenda...</td>\n",
       "      <td>6/9/15</td>\n",
       "      <td>5562</td>\n",
       "      <td>6.5</td>\n",
       "      <td>2015</td>\n",
       "      <td>1.379999e+08</td>\n",
       "      <td>1.392446e+09</td>\n",
       "    </tr>\n",
       "    <tr>\n",
       "      <th>1</th>\n",
       "      <td>76341</td>\n",
       "      <td>tt1392190</td>\n",
       "      <td>28.419936</td>\n",
       "      <td>150000000</td>\n",
       "      <td>378436354</td>\n",
       "      <td>Mad Max: Fury Road</td>\n",
       "      <td>Tom Hardy|Charlize Theron|Hugh Keays-Byrne|Nic...</td>\n",
       "      <td>http://www.madmaxmovie.com/</td>\n",
       "      <td>George Miller</td>\n",
       "      <td>What a Lovely Day.</td>\n",
       "      <td>...</td>\n",
       "      <td>An apocalyptic story set in the furthest reach...</td>\n",
       "      <td>120</td>\n",
       "      <td>Action|Adventure|Science Fiction|Thriller</td>\n",
       "      <td>Village Roadshow Pictures|Kennedy Miller Produ...</td>\n",
       "      <td>5/13/15</td>\n",
       "      <td>6185</td>\n",
       "      <td>7.1</td>\n",
       "      <td>2015</td>\n",
       "      <td>1.379999e+08</td>\n",
       "      <td>3.481613e+08</td>\n",
       "    </tr>\n",
       "  </tbody>\n",
       "</table>\n",
       "<p>2 rows × 21 columns</p>\n",
       "</div>"
      ],
      "text/plain": [
       "       id    imdb_id  popularity     budget     revenue      original_title  \\\n",
       "0  135397  tt0369610   32.985763  150000000  1513528810      Jurassic World   \n",
       "1   76341  tt1392190   28.419936  150000000   378436354  Mad Max: Fury Road   \n",
       "\n",
       "                                                cast  \\\n",
       "0  Chris Pratt|Bryce Dallas Howard|Irrfan Khan|Vi...   \n",
       "1  Tom Hardy|Charlize Theron|Hugh Keays-Byrne|Nic...   \n",
       "\n",
       "                        homepage         director             tagline  \\\n",
       "0  http://www.jurassicworld.com/  Colin Trevorrow   The park is open.   \n",
       "1    http://www.madmaxmovie.com/    George Miller  What a Lovely Day.   \n",
       "\n",
       "       ...                                                overview runtime  \\\n",
       "0      ...       Twenty-two years after the events of Jurassic ...     124   \n",
       "1      ...       An apocalyptic story set in the furthest reach...     120   \n",
       "\n",
       "                                      genres  \\\n",
       "0  Action|Adventure|Science Fiction|Thriller   \n",
       "1  Action|Adventure|Science Fiction|Thriller   \n",
       "\n",
       "                                production_companies release_date vote_count  \\\n",
       "0  Universal Studios|Amblin Entertainment|Legenda...       6/9/15       5562   \n",
       "1  Village Roadshow Pictures|Kennedy Miller Produ...      5/13/15       6185   \n",
       "\n",
       "   vote_average  release_year    budget_adj   revenue_adj  \n",
       "0           6.5          2015  1.379999e+08  1.392446e+09  \n",
       "1           7.1          2015  1.379999e+08  3.481613e+08  \n",
       "\n",
       "[2 rows x 21 columns]"
      ]
     },
     "execution_count": 2,
     "metadata": {},
     "output_type": "execute_result"
    }
   ],
   "source": [
    "#Loading csv into DataFrame \n",
    "df = pd.read_csv('tmdb-movies.csv')\n",
    "df.head(2)"
   ]
  },
  {
   "cell_type": "code",
   "execution_count": 3,
   "metadata": {},
   "outputs": [
    {
     "name": "stdout",
     "output_type": "stream",
     "text": [
      "df rows: 10866.\n",
      "df columns: 21.\n"
     ]
    }
   ],
   "source": [
    "print(\"df rows: {}.\\ndf columns: {}.\".format(df.shape[0], df.shape[1]))"
   ]
  },
  {
   "cell_type": "code",
   "execution_count": 4,
   "metadata": {},
   "outputs": [
    {
     "name": "stdout",
     "output_type": "stream",
     "text": [
      "<class 'pandas.core.frame.DataFrame'>\n",
      "RangeIndex: 10866 entries, 0 to 10865\n",
      "Data columns (total 21 columns):\n",
      "id                      10866 non-null int64\n",
      "imdb_id                 10856 non-null object\n",
      "popularity              10866 non-null float64\n",
      "budget                  10866 non-null int64\n",
      "revenue                 10866 non-null int64\n",
      "original_title          10866 non-null object\n",
      "cast                    10790 non-null object\n",
      "homepage                2936 non-null object\n",
      "director                10822 non-null object\n",
      "tagline                 8042 non-null object\n",
      "keywords                9373 non-null object\n",
      "overview                10862 non-null object\n",
      "runtime                 10866 non-null int64\n",
      "genres                  10843 non-null object\n",
      "production_companies    9836 non-null object\n",
      "release_date            10866 non-null object\n",
      "vote_count              10866 non-null int64\n",
      "vote_average            10866 non-null float64\n",
      "release_year            10866 non-null int64\n",
      "budget_adj              10866 non-null float64\n",
      "revenue_adj             10866 non-null float64\n",
      "dtypes: float64(4), int64(6), object(11)\n",
      "memory usage: 1.7+ MB\n"
     ]
    }
   ],
   "source": [
    "df.info()"
   ]
  },
  {
   "cell_type": "markdown",
   "metadata": {},
   "source": [
    "<a id='data_cleaning'></a>\n",
    "### Data Cleaning"
   ]
  },
  {
   "cell_type": "markdown",
   "metadata": {},
   "source": [
    "<a id='checking_null'></a>\n",
    "#### Checking for null values"
   ]
  },
  {
   "cell_type": "code",
   "execution_count": 5,
   "metadata": {},
   "outputs": [
    {
     "data": {
      "text/plain": [
       "id                         0\n",
       "imdb_id                   10\n",
       "popularity                 0\n",
       "budget                     0\n",
       "revenue                    0\n",
       "original_title             0\n",
       "cast                      76\n",
       "homepage                7930\n",
       "director                  44\n",
       "tagline                 2824\n",
       "keywords                1493\n",
       "overview                   4\n",
       "runtime                    0\n",
       "genres                    23\n",
       "production_companies    1030\n",
       "release_date               0\n",
       "vote_count                 0\n",
       "vote_average               0\n",
       "release_year               0\n",
       "budget_adj                 0\n",
       "revenue_adj                0\n",
       "dtype: int64"
      ]
     },
     "execution_count": 5,
     "metadata": {},
     "output_type": "execute_result"
    }
   ],
   "source": [
    "df.isnull().sum()"
   ]
  },
  {
   "cell_type": "markdown",
   "metadata": {},
   "source": [
    "<p>As shown in the previous cell, `imdb_id`, `cast`, `homepage`, `director`, `tagline`, `keywords`, `overview`, `genres` and `production_companies` have null values. However, the only fields that affect any of the proposed questions are `director` , `genres` and `cast`. Hence I'll just drop rows with null values for those columns and won't use `df.dropna()` method. </p>\n",
    "<p>As `homepage` field has 7930 NaN values, using `drop_na()` will cause a major loss of significant data."
   ]
  },
  {
   "cell_type": "code",
   "execution_count": 6,
   "metadata": {},
   "outputs": [],
   "source": [
    "def drop_rows(df_temp, df):\n",
    "    \"\"\"\n",
    "    Removes specific rows from a dataframe and returns it.\n",
    "\n",
    "    Args:\n",
    "        (DataFrame) df_temp - DataFrame with data that needs to be removed\n",
    "        (DataFrame) df - DataFrame to be transformed\n",
    "    Returns:\n",
    "        Dataframe with removed rows. \n",
    "    \"\"\"\n",
    "    index_array = np.array(df_temp.index) #array of indexes for rows with NaN/duplicated values\n",
    "    for row in index_array:\n",
    "        df = df.drop(row)\n",
    "    return df"
   ]
  },
  {
   "cell_type": "markdown",
   "metadata": {},
   "source": [
    "<a id='drop_director'></a>\n",
    "* **Droping Director**"
   ]
  },
  {
   "cell_type": "code",
   "execution_count": 7,
   "metadata": {},
   "outputs": [
    {
     "name": "stdout",
     "output_type": "stream",
     "text": [
      "Rows in df before droping ones with NaN value for director: 10866.\n",
      "Rows in df after droping ones with NaN value for director: 10822.\n",
      "Is there still any NaN director? - False.\n"
     ]
    }
   ],
   "source": [
    "# DataFrame with movies with NaN director\n",
    "df_null_director = df[df['director'].isnull()]\n",
    "\n",
    "print(\"Rows in df before droping ones with NaN value for director: {}.\".format(df.shape[0]))\n",
    "df = drop_rows(df_null_director, df)\n",
    "print(\"Rows in df after droping ones with NaN value for director: {}.\".format(df.shape[0]))\n",
    "print(\"Is there still any NaN director? - {}.\".format(df['director'].isnull().any()))"
   ]
  },
  {
   "cell_type": "markdown",
   "metadata": {},
   "source": [
    "I created a dataframe containing rows where director is null. Inside `drop_rows` method, I iterate over those rows and drop them from original df. \n",
    "<p> The same methods are used to drop NaN values in cast and genre. "
   ]
  },
  {
   "cell_type": "markdown",
   "metadata": {},
   "source": [
    "<a id='drop_cast'></a>\n",
    "* **Droping Cast**"
   ]
  },
  {
   "cell_type": "code",
   "execution_count": 8,
   "metadata": {},
   "outputs": [
    {
     "name": "stdout",
     "output_type": "stream",
     "text": [
      "Rows in df before droping ones with NaN value for cast: 10822.\n",
      "Rows in df after droping ones with NaN value for cast: 10752.\n",
      "Is there still any NaN cast? - False.\n"
     ]
    }
   ],
   "source": [
    "# DataFrame with movies with NaN cast\n",
    "df_null_cast = df[df['cast'].isnull()]\n",
    "print(\"Rows in df before droping ones with NaN value for cast: {}.\".format(df.shape[0]))\n",
    "df = drop_rows(df_null_cast, df)\n",
    "print(\"Rows in df after droping ones with NaN value for cast: {}.\".format(df.shape[0]))\n",
    "print(\"Is there still any NaN cast? - {}.\".format(df['cast'].isnull().any()))"
   ]
  },
  {
   "cell_type": "markdown",
   "metadata": {},
   "source": [
    "<a id='drop_genre'></a>\n",
    "* **Droping Genre**"
   ]
  },
  {
   "cell_type": "code",
   "execution_count": 9,
   "metadata": {},
   "outputs": [
    {
     "name": "stdout",
     "output_type": "stream",
     "text": [
      "Rows in df before droping ones with NaN value for genres: 10752.\n",
      "Rows in df after droping ones with NaN value for genres: 10732.\n",
      "Is there still any NaN genres? - False.\n"
     ]
    }
   ],
   "source": [
    "# DataFrame with movies with NaN genres\n",
    "df_null_genres = df[df['genres'].isnull()]\n",
    "print(\"Rows in df before droping ones with NaN value for genres: {}.\".format(df.shape[0]))\n",
    "df = drop_rows(df_null_genres, df)\n",
    "print(\"Rows in df after droping ones with NaN value for genres: {}.\".format(df.shape[0]))\n",
    "print(\"Is there still any NaN genres? - {}.\".format(df['genres'].isnull().any()))"
   ]
  },
  {
   "cell_type": "markdown",
   "metadata": {},
   "source": [
    "<a id='checking_duplicates'></a>\n",
    "#### Checking for duplicates"
   ]
  },
  {
   "cell_type": "code",
   "execution_count": 10,
   "metadata": {},
   "outputs": [
    {
     "data": {
      "text/plain": [
       "1"
      ]
     },
     "execution_count": 10,
     "metadata": {},
     "output_type": "execute_result"
    }
   ],
   "source": [
    "df['id'].duplicated().sum()"
   ]
  },
  {
   "cell_type": "code",
   "execution_count": 11,
   "metadata": {},
   "outputs": [
    {
     "name": "stdout",
     "output_type": "stream",
     "text": [
      "Rows in df before droping duplicates: 10732.\n",
      "Rows in df after droping duplicates: 10731.\n"
     ]
    }
   ],
   "source": [
    "print(\"Rows in df before droping duplicates: {}.\".format(df.shape[0]))\n",
    "df.drop_duplicates(inplace=True)\n",
    "print(\"Rows in df after droping duplicates: {}.\".format(df.shape[0]))"
   ]
  },
  {
   "cell_type": "markdown",
   "metadata": {},
   "source": [
    "As there is one duplicated id I droped it. "
   ]
  },
  {
   "cell_type": "markdown",
   "metadata": {},
   "source": [
    "<a id='checking_data_types'></a>\n",
    "#### Checking DataTypes"
   ]
  },
  {
   "cell_type": "markdown",
   "metadata": {},
   "source": [
    "<a id='data_types_pipes'></a>\n",
    "* **Pipe separated string values to list**"
   ]
  },
  {
   "cell_type": "code",
   "execution_count": 12,
   "metadata": {},
   "outputs": [
    {
     "data": {
      "text/plain": [
       "id                                                                 135397\n",
       "imdb_id                                                         tt0369610\n",
       "popularity                                                        32.9858\n",
       "budget                                                          150000000\n",
       "revenue                                                        1513528810\n",
       "original_title                                             Jurassic World\n",
       "cast                    Chris Pratt|Bryce Dallas Howard|Irrfan Khan|Vi...\n",
       "homepage                                    http://www.jurassicworld.com/\n",
       "director                                                  Colin Trevorrow\n",
       "tagline                                                 The park is open.\n",
       "keywords                monster|dna|tyrannosaurus rex|velociraptor|island\n",
       "overview                Twenty-two years after the events of Jurassic ...\n",
       "runtime                                                               124\n",
       "genres                          Action|Adventure|Science Fiction|Thriller\n",
       "production_companies    Universal Studios|Amblin Entertainment|Legenda...\n",
       "release_date                                                       6/9/15\n",
       "vote_count                                                           5562\n",
       "vote_average                                                          6.5\n",
       "release_year                                                         2015\n",
       "budget_adj                                                       1.38e+08\n",
       "revenue_adj                                                   1.39245e+09\n",
       "Name: 0, dtype: object"
      ]
     },
     "execution_count": 12,
     "metadata": {},
     "output_type": "execute_result"
    }
   ],
   "source": [
    "df.iloc[0]"
   ]
  },
  {
   "cell_type": "markdown",
   "metadata": {},
   "source": [
    "---\n",
    "By checking the information above it can be seen that some columns, such as: \n",
    "* cast, \n",
    "* keywords, \n",
    "* genres, \n",
    "* production_companies and\n",
    "* director\n",
    "\n",
    "<p>contain more than one value separated by a pipe (|). </p>\n",
    "<p>Such information is saved as string (\"Chris Pratt|Bryce Dallas Howard|Irrfan Khan|Vincent D'Onofrio|Nick Robinson\") making it difficult to analyse the separate values contained in that field. That's why I consider best to save that values in a list of strings so the different values can be accessed easily. </p> \n",
    "<p>For example `df.iloc[0]['cast'][0]` for 'Chris Pratt'. </p>\n",
    "<p>The function below helps solving this. </p>\n",
    "\n",
    "---"
   ]
  },
  {
   "cell_type": "code",
   "execution_count": 13,
   "metadata": {},
   "outputs": [],
   "source": [
    "def split_pipes(part):\n",
    "    \"\"\"\n",
    "    Takes string input and splits it by the pipe | symbol.\n",
    "\n",
    "    Args:\n",
    "        (str) part - string value from series\n",
    "    Returns:\n",
    "        Python list of string values from input field. \n",
    "    \"\"\"\n",
    "    part = str(part)\n",
    "    return part.split('|')"
   ]
  },
  {
   "cell_type": "code",
   "execution_count": 14,
   "metadata": {},
   "outputs": [],
   "source": [
    "df['cast'] = df['cast'].apply(split_pipes)\n",
    "df['keywords'] = df['keywords'].apply(split_pipes)\n",
    "df['genres'] = df['genres'].apply(split_pipes)\n",
    "df['production_companies'] = df['production_companies'].apply(split_pipes)\n",
    "df['director'] = df['director'].apply(split_pipes)"
   ]
  },
  {
   "cell_type": "code",
   "execution_count": 15,
   "metadata": {},
   "outputs": [
    {
     "data": {
      "text/html": [
       "<div>\n",
       "<style scoped>\n",
       "    .dataframe tbody tr th:only-of-type {\n",
       "        vertical-align: middle;\n",
       "    }\n",
       "\n",
       "    .dataframe tbody tr th {\n",
       "        vertical-align: top;\n",
       "    }\n",
       "\n",
       "    .dataframe thead th {\n",
       "        text-align: right;\n",
       "    }\n",
       "</style>\n",
       "<table border=\"1\" class=\"dataframe\">\n",
       "  <thead>\n",
       "    <tr style=\"text-align: right;\">\n",
       "      <th></th>\n",
       "      <th>cast</th>\n",
       "      <th>keywords</th>\n",
       "      <th>genres</th>\n",
       "      <th>production_companies</th>\n",
       "      <th>director</th>\n",
       "    </tr>\n",
       "  </thead>\n",
       "  <tbody>\n",
       "    <tr>\n",
       "      <th>0</th>\n",
       "      <td>[Chris Pratt, Bryce Dallas Howard, Irrfan Khan...</td>\n",
       "      <td>[monster, dna, tyrannosaurus rex, velociraptor...</td>\n",
       "      <td>[Action, Adventure, Science Fiction, Thriller]</td>\n",
       "      <td>[Universal Studios, Amblin Entertainment, Lege...</td>\n",
       "      <td>[Colin Trevorrow]</td>\n",
       "    </tr>\n",
       "    <tr>\n",
       "      <th>1</th>\n",
       "      <td>[Tom Hardy, Charlize Theron, Hugh Keays-Byrne,...</td>\n",
       "      <td>[future, chase, post-apocalyptic, dystopia, au...</td>\n",
       "      <td>[Action, Adventure, Science Fiction, Thriller]</td>\n",
       "      <td>[Village Roadshow Pictures, Kennedy Miller Pro...</td>\n",
       "      <td>[George Miller]</td>\n",
       "    </tr>\n",
       "    <tr>\n",
       "      <th>2</th>\n",
       "      <td>[Shailene Woodley, Theo James, Kate Winslet, A...</td>\n",
       "      <td>[based on novel, revolution, dystopia, sequel,...</td>\n",
       "      <td>[Adventure, Science Fiction, Thriller]</td>\n",
       "      <td>[Summit Entertainment, Mandeville Films, Red W...</td>\n",
       "      <td>[Robert Schwentke]</td>\n",
       "    </tr>\n",
       "    <tr>\n",
       "      <th>3</th>\n",
       "      <td>[Harrison Ford, Mark Hamill, Carrie Fisher, Ad...</td>\n",
       "      <td>[android, spaceship, jedi, space opera, 3d]</td>\n",
       "      <td>[Action, Adventure, Science Fiction, Fantasy]</td>\n",
       "      <td>[Lucasfilm, Truenorth Productions, Bad Robot]</td>\n",
       "      <td>[J.J. Abrams]</td>\n",
       "    </tr>\n",
       "    <tr>\n",
       "      <th>4</th>\n",
       "      <td>[Vin Diesel, Paul Walker, Jason Statham, Miche...</td>\n",
       "      <td>[car race, speed, revenge, suspense, car]</td>\n",
       "      <td>[Action, Crime, Thriller]</td>\n",
       "      <td>[Universal Pictures, Original Film, Media Righ...</td>\n",
       "      <td>[James Wan]</td>\n",
       "    </tr>\n",
       "  </tbody>\n",
       "</table>\n",
       "</div>"
      ],
      "text/plain": [
       "                                                cast  \\\n",
       "0  [Chris Pratt, Bryce Dallas Howard, Irrfan Khan...   \n",
       "1  [Tom Hardy, Charlize Theron, Hugh Keays-Byrne,...   \n",
       "2  [Shailene Woodley, Theo James, Kate Winslet, A...   \n",
       "3  [Harrison Ford, Mark Hamill, Carrie Fisher, Ad...   \n",
       "4  [Vin Diesel, Paul Walker, Jason Statham, Miche...   \n",
       "\n",
       "                                            keywords  \\\n",
       "0  [monster, dna, tyrannosaurus rex, velociraptor...   \n",
       "1  [future, chase, post-apocalyptic, dystopia, au...   \n",
       "2  [based on novel, revolution, dystopia, sequel,...   \n",
       "3        [android, spaceship, jedi, space opera, 3d]   \n",
       "4          [car race, speed, revenge, suspense, car]   \n",
       "\n",
       "                                           genres  \\\n",
       "0  [Action, Adventure, Science Fiction, Thriller]   \n",
       "1  [Action, Adventure, Science Fiction, Thriller]   \n",
       "2          [Adventure, Science Fiction, Thriller]   \n",
       "3   [Action, Adventure, Science Fiction, Fantasy]   \n",
       "4                       [Action, Crime, Thriller]   \n",
       "\n",
       "                                production_companies            director  \n",
       "0  [Universal Studios, Amblin Entertainment, Lege...   [Colin Trevorrow]  \n",
       "1  [Village Roadshow Pictures, Kennedy Miller Pro...     [George Miller]  \n",
       "2  [Summit Entertainment, Mandeville Films, Red W...  [Robert Schwentke]  \n",
       "3      [Lucasfilm, Truenorth Productions, Bad Robot]       [J.J. Abrams]  \n",
       "4  [Universal Pictures, Original Film, Media Righ...         [James Wan]  "
      ]
     },
     "execution_count": 15,
     "metadata": {},
     "output_type": "execute_result"
    }
   ],
   "source": [
    "df[['cast','keywords','genres','production_companies', 'director']].head()"
   ]
  },
  {
   "cell_type": "markdown",
   "metadata": {},
   "source": [
    "It can be seen that all strings separated by | are now lists of strings. "
   ]
  },
  {
   "cell_type": "markdown",
   "metadata": {},
   "source": [
    "<a id='data_types_datetime'></a>\n",
    "* **Release_date  to datetime type**"
   ]
  },
  {
   "cell_type": "code",
   "execution_count": 16,
   "metadata": {},
   "outputs": [],
   "source": [
    "df['release_date'] = pd.to_datetime(df['release_date'])"
   ]
  },
  {
   "cell_type": "code",
   "execution_count": 17,
   "metadata": {},
   "outputs": [
    {
     "name": "stdout",
     "output_type": "stream",
     "text": [
      "<class 'pandas.core.frame.DataFrame'>\n",
      "Int64Index: 10731 entries, 0 to 10865\n",
      "Data columns (total 21 columns):\n",
      "id                      10731 non-null int64\n",
      "imdb_id                 10726 non-null object\n",
      "popularity              10731 non-null float64\n",
      "budget                  10731 non-null int64\n",
      "revenue                 10731 non-null int64\n",
      "original_title          10731 non-null object\n",
      "cast                    10731 non-null object\n",
      "homepage                2893 non-null object\n",
      "director                10731 non-null object\n",
      "tagline                 8001 non-null object\n",
      "keywords                10731 non-null object\n",
      "overview                10729 non-null object\n",
      "runtime                 10731 non-null int64\n",
      "genres                  10731 non-null object\n",
      "production_companies    10731 non-null object\n",
      "release_date            10731 non-null datetime64[ns]\n",
      "vote_count              10731 non-null int64\n",
      "vote_average            10731 non-null float64\n",
      "release_year            10731 non-null int64\n",
      "budget_adj              10731 non-null float64\n",
      "revenue_adj             10731 non-null float64\n",
      "dtypes: datetime64[ns](1), float64(4), int64(6), object(10)\n",
      "memory usage: 1.8+ MB\n"
     ]
    }
   ],
   "source": [
    "df.info()"
   ]
  },
  {
   "cell_type": "markdown",
   "metadata": {},
   "source": [
    "`released_date` was saved as string. I converted it to datetime in case it's needed later to manipulate field as date."
   ]
  },
  {
   "cell_type": "markdown",
   "metadata": {},
   "source": [
    "<a id='eda'></a>\n",
    "## Exploratory Data Analysis"
   ]
  },
  {
   "cell_type": "markdown",
   "metadata": {},
   "source": [
    "<a id='q1'></a>\n",
    "### Research Question 1- What's the relationship between `popularity` and `vote_count`?"
   ]
  },
  {
   "cell_type": "markdown",
   "metadata": {},
   "source": [
    "<a id='pop_v_count'></a>\n",
    "*  **`Popularity` vs. `vote_count`**"
   ]
  },
  {
   "cell_type": "code",
   "execution_count": 18,
   "metadata": {},
   "outputs": [
    {
     "data": {
      "text/plain": [
       "count    10731.000000\n",
       "mean         0.652615\n",
       "std          1.004804\n",
       "min          0.000188\n",
       "25%          0.210765\n",
       "50%          0.387081\n",
       "75%          0.720889\n",
       "max         32.985763\n",
       "Name: popularity, dtype: float64"
      ]
     },
     "execution_count": 18,
     "metadata": {},
     "output_type": "execute_result"
    }
   ],
   "source": [
    "df['popularity'].describe()"
   ]
  },
  {
   "cell_type": "code",
   "execution_count": 19,
   "metadata": {},
   "outputs": [
    {
     "data": {
      "text/plain": [
       "count    10731.000000\n",
       "mean       219.812972\n",
       "std        578.815324\n",
       "min         10.000000\n",
       "25%         17.000000\n",
       "50%         39.000000\n",
       "75%        148.000000\n",
       "max       9767.000000\n",
       "Name: vote_count, dtype: float64"
      ]
     },
     "execution_count": 19,
     "metadata": {},
     "output_type": "execute_result"
    }
   ],
   "source": [
    "df['vote_count'].describe()"
   ]
  },
  {
   "cell_type": "code",
   "execution_count": 20,
   "metadata": {},
   "outputs": [],
   "source": [
    "#https://stackoverflow.com/questions/41635448/how-can-i-draw-scatter-trend-line-on-matplot-python-pandas?noredirect=1&lq=1\n",
    "def draw_scatter_with_trend_line(x, y, title, xLabel, yLabel):\n",
    "    \"\"\"\n",
    "    Draws a scatter plot with trend lines\n",
    "\n",
    "    Args:\n",
    "        (DataFrame column) x - DataFrame column for x axis\n",
    "        (DataFrame columns) y - DataFrame column for y axis\n",
    "        (str) - Plot title\n",
    "        (str) - Label for x axis\n",
    "        (str) - Label for y axis\n",
    "    \"\"\"\n",
    "    plt.figure(figsize=(15,10))\n",
    "    plt.scatter(x, y)\n",
    "    z = np.polyfit(x, y, 1)\n",
    "    p = np.poly1d(z)\n",
    "    plt.title(title, fontsize=18)\n",
    "    plt.xlabel(xLabel, fontsize=14)\n",
    "    plt.ylabel(yLabel, fontsize=14)    \n",
    "    plt.xticks(fontsize=14)\n",
    "    plt.yticks(fontsize=14)\n",
    "    plt.plot(x,p(x),\"b-\");"
   ]
  },
  {
   "cell_type": "code",
   "execution_count": 21,
   "metadata": {},
   "outputs": [
    {
     "data": {
      "image/png": "[encoded data removed]",
      "text/plain": [
       "<Figure size 1080x720 with 1 Axes>"
      ]
     },
     "metadata": {},
     "output_type": "display_data"
    }
   ],
   "source": [
    "draw_scatter_with_trend_line(df['popularity'], df['vote_count'], 'Relationship between popularity and vote_count', 'Popularity', 'Vote Count')"
   ]
  },
  {
   "cell_type": "markdown",
   "metadata": {},
   "source": [
    "The above graph shows that there is a **strong positive** relationship between popularity of a movie and the number of users who vote."
   ]
  },
  {
   "cell_type": "code",
   "execution_count": 22,
   "metadata": {},
   "outputs": [
    {
     "data": {
      "text/plain": [
       "0.8006187445347125"
      ]
     },
     "execution_count": 22,
     "metadata": {},
     "output_type": "execute_result"
    }
   ],
   "source": [
    "#https://pandas.pydata.org/pandas-docs/stable/generated/pandas.DataFrame.corr.html\n",
    "df[['popularity', 'vote_count']].corr(method='pearson')['popularity'].vote_count"
   ]
  },
  {
   "cell_type": "markdown",
   "metadata": {},
   "source": [
    "Taking into account Pearson's r it can be seen that the correlation coefficient is 0.8006187445347125, prety near to 1, confirming a strong and positive relationship between this two variables. \n",
    "<p> It can be the case that as the popularity increases, more people see the movie and want to rate it."
   ]
  },
  {
   "cell_type": "markdown",
   "metadata": {},
   "source": [
    "<a id='pop_v_average'></a>\n",
    "* **`Popularity` vs. `vote_average`**"
   ]
  },
  {
   "cell_type": "code",
   "execution_count": 23,
   "metadata": {},
   "outputs": [
    {
     "data": {
      "image/png": "[encoded data removed]",
      "text/plain": [
       "<Figure size 1080x720 with 1 Axes>"
      ]
     },
     "metadata": {},
     "output_type": "display_data"
    }
   ],
   "source": [
    "draw_scatter_with_trend_line(df['popularity'], df['vote_average'],\"Relationship between Popularity and Vote Average\", \"Popularity\", 'Vote Average')"
   ]
  },
  {
   "cell_type": "code",
   "execution_count": 24,
   "metadata": {},
   "outputs": [
    {
     "data": {
      "text/plain": [
       "0.2179063121675616"
      ]
     },
     "execution_count": 24,
     "metadata": {},
     "output_type": "execute_result"
    }
   ],
   "source": [
    "df[['popularity', 'vote_average']].corr(method='pearson')['popularity'].vote_average"
   ]
  },
  {
   "cell_type": "markdown",
   "metadata": {},
   "source": [
    "In this case, the relationship has a correlaction coafficient of 0.2179063121675616 showing that, although there is a positive correlation between popularity and vote average, the **relationship is weak**. \n",
    "<p> This could be caused by the fact that a movie may be popular due to a lot of advertising but may not be so good."
   ]
  },
  {
   "cell_type": "markdown",
   "metadata": {},
   "source": [
    "<a id='pop_revenue'></a>\n",
    "* **`Popularity` vs. `revenue_adj`**"
   ]
  },
  {
   "cell_type": "code",
   "execution_count": 25,
   "metadata": {},
   "outputs": [
    {
     "data": {
      "image/png": "[encoded data removed]",
      "text/plain": [
       "<Figure size 1080x720 with 1 Axes>"
      ]
     },
     "metadata": {},
     "output_type": "display_data"
    }
   ],
   "source": [
    "draw_scatter_with_trend_line(df['popularity'], df['revenue_adj'],\"Relationship between Popularity and revenue\", \"Popularity\", 'Revenue_adj')"
   ]
  },
  {
   "cell_type": "code",
   "execution_count": 26,
   "metadata": {},
   "outputs": [
    {
     "data": {
      "text/plain": [
       "0.6083836708004083"
      ]
     },
     "execution_count": 26,
     "metadata": {},
     "output_type": "execute_result"
    }
   ],
   "source": [
    "df[['popularity', 'revenue_adj']].corr(method='pearson')['popularity'].revenue_adj"
   ]
  },
  {
   "cell_type": "markdown",
   "metadata": {},
   "source": [
    "Both from the plot and from the correlation coefficient of 0.6083836708004083 it can be seen that there is a **positive and moderate** relationship between these two variables. \n",
    "<p> It appears that as more popular is a movie, more revenue has. \n",
    "<p> I chose to use `revenue_adj` field instead of `revenue` one so I don't have to account for inflation while comparing revenue to popularity.  "
   ]
  },
  {
   "cell_type": "markdown",
   "metadata": {},
   "source": [
    "<a id='q1_conclusion'></a>\n",
    "* **Conclusion**"
   ]
  },
  {
   "cell_type": "markdown",
   "metadata": {},
   "source": [
    "In conclusion, from the three variables compared to popularity, it can be seen that a movie that's watched by many people increases the number of people that vote, hence a higher `vote_count` value, and though the movie may or may not be good, if many peplo vote, `popularity`, which is the sum of raitings, raises. \n",
    "<p>However, if the movie it's not so good, `vote_average` won't always be high besides movie being popular. This means that a movie being popular doesn't mean the movie will be good, hence the relationship between this two variables is weak.\n",
    "<p>Finally, if popularity is high, it usually means that many people watched the movie so this means that `revenue_adj` is greater. "
   ]
  },
  {
   "cell_type": "markdown",
   "metadata": {},
   "source": [
    "<a id='q2'></a>\n",
    "### Research Question 2- What genre produces more renevue in average?"
   ]
  },
  {
   "cell_type": "markdown",
   "metadata": {},
   "source": [
    "To be able to answer this question I need to group by genre. As genres column consists of list values, this needs to be corrected. \n",
    "<p> For this question I will split genres into multiple rows for each movie. This is going to be done just for this question and not modifing `df` since the duplicated values on other columns may affect other questions' results. \n",
    "<p> I tried doing my own function but it took considerable time and I actually never saw it finished so I searched for a function already written and modified it to fit my df."
   ]
  },
  {
   "cell_type": "code",
   "execution_count": 27,
   "metadata": {},
   "outputs": [],
   "source": [
    "#https://gist.github.com/jlln/338b4b0b55bd6984f883\n",
    "def splitDataFrameList(df,target_column):\n",
    "    \"\"\"\n",
    "    Draws a scatter plot with trend lines\n",
    "\n",
    "    Args:\n",
    "        (DataFrame) - DataFrame to split\n",
    "        (DataFrame columns) - the column containing the list values to split        \n",
    "    Returns:\n",
    "        (DataFrame) - a dataframe with each entry for the target column separated, with each element moved into a new row. \n",
    "                    The values in the other columns are duplicated across the newly divided rows.\n",
    "    \"\"\"\n",
    "    def splitListToRows(row,row_accumulator,target_column):\n",
    "        split_row = row[target_column]\n",
    "        for s in split_row:\n",
    "            new_row = row.to_dict()\n",
    "            new_row[target_column] = s\n",
    "            row_accumulator.append(new_row)\n",
    "    new_rows = []\n",
    "    df.apply(splitListToRows,axis=1,args = (new_rows,target_column))\n",
    "    new_df = pd.DataFrame(new_rows)\n",
    "    return new_df"
   ]
  },
  {
   "cell_type": "code",
   "execution_count": 28,
   "metadata": {},
   "outputs": [
    {
     "data": {
      "text/html": [
       "<div>\n",
       "<style scoped>\n",
       "    .dataframe tbody tr th:only-of-type {\n",
       "        vertical-align: middle;\n",
       "    }\n",
       "\n",
       "    .dataframe tbody tr th {\n",
       "        vertical-align: top;\n",
       "    }\n",
       "\n",
       "    .dataframe thead th {\n",
       "        text-align: right;\n",
       "    }\n",
       "</style>\n",
       "<table border=\"1\" class=\"dataframe\">\n",
       "  <thead>\n",
       "    <tr style=\"text-align: right;\">\n",
       "      <th></th>\n",
       "      <th>budget</th>\n",
       "      <th>budget_adj</th>\n",
       "      <th>cast</th>\n",
       "      <th>director</th>\n",
       "      <th>genres</th>\n",
       "      <th>homepage</th>\n",
       "      <th>id</th>\n",
       "      <th>imdb_id</th>\n",
       "      <th>keywords</th>\n",
       "      <th>original_title</th>\n",
       "      <th>...</th>\n",
       "      <th>popularity</th>\n",
       "      <th>production_companies</th>\n",
       "      <th>release_date</th>\n",
       "      <th>release_year</th>\n",
       "      <th>revenue</th>\n",
       "      <th>revenue_adj</th>\n",
       "      <th>runtime</th>\n",
       "      <th>tagline</th>\n",
       "      <th>vote_average</th>\n",
       "      <th>vote_count</th>\n",
       "    </tr>\n",
       "  </thead>\n",
       "  <tbody>\n",
       "    <tr>\n",
       "      <th>0</th>\n",
       "      <td>150000000</td>\n",
       "      <td>1.379999e+08</td>\n",
       "      <td>[Chris Pratt, Bryce Dallas Howard, Irrfan Khan...</td>\n",
       "      <td>[Colin Trevorrow]</td>\n",
       "      <td>Action</td>\n",
       "      <td>http://www.jurassicworld.com/</td>\n",
       "      <td>135397</td>\n",
       "      <td>tt0369610</td>\n",
       "      <td>[monster, dna, tyrannosaurus rex, velociraptor...</td>\n",
       "      <td>Jurassic World</td>\n",
       "      <td>...</td>\n",
       "      <td>32.985763</td>\n",
       "      <td>[Universal Studios, Amblin Entertainment, Lege...</td>\n",
       "      <td>2015-06-09</td>\n",
       "      <td>2015</td>\n",
       "      <td>1513528810</td>\n",
       "      <td>1.392446e+09</td>\n",
       "      <td>124</td>\n",
       "      <td>The park is open.</td>\n",
       "      <td>6.5</td>\n",
       "      <td>5562</td>\n",
       "    </tr>\n",
       "    <tr>\n",
       "      <th>1</th>\n",
       "      <td>150000000</td>\n",
       "      <td>1.379999e+08</td>\n",
       "      <td>[Chris Pratt, Bryce Dallas Howard, Irrfan Khan...</td>\n",
       "      <td>[Colin Trevorrow]</td>\n",
       "      <td>Adventure</td>\n",
       "      <td>http://www.jurassicworld.com/</td>\n",
       "      <td>135397</td>\n",
       "      <td>tt0369610</td>\n",
       "      <td>[monster, dna, tyrannosaurus rex, velociraptor...</td>\n",
       "      <td>Jurassic World</td>\n",
       "      <td>...</td>\n",
       "      <td>32.985763</td>\n",
       "      <td>[Universal Studios, Amblin Entertainment, Lege...</td>\n",
       "      <td>2015-06-09</td>\n",
       "      <td>2015</td>\n",
       "      <td>1513528810</td>\n",
       "      <td>1.392446e+09</td>\n",
       "      <td>124</td>\n",
       "      <td>The park is open.</td>\n",
       "      <td>6.5</td>\n",
       "      <td>5562</td>\n",
       "    </tr>\n",
       "  </tbody>\n",
       "</table>\n",
       "<p>2 rows × 21 columns</p>\n",
       "</div>"
      ],
      "text/plain": [
       "      budget    budget_adj                                               cast  \\\n",
       "0  150000000  1.379999e+08  [Chris Pratt, Bryce Dallas Howard, Irrfan Khan...   \n",
       "1  150000000  1.379999e+08  [Chris Pratt, Bryce Dallas Howard, Irrfan Khan...   \n",
       "\n",
       "            director     genres                       homepage      id  \\\n",
       "0  [Colin Trevorrow]     Action  http://www.jurassicworld.com/  135397   \n",
       "1  [Colin Trevorrow]  Adventure  http://www.jurassicworld.com/  135397   \n",
       "\n",
       "     imdb_id                                           keywords  \\\n",
       "0  tt0369610  [monster, dna, tyrannosaurus rex, velociraptor...   \n",
       "1  tt0369610  [monster, dna, tyrannosaurus rex, velociraptor...   \n",
       "\n",
       "   original_title     ...     popularity  \\\n",
       "0  Jurassic World     ...      32.985763   \n",
       "1  Jurassic World     ...      32.985763   \n",
       "\n",
       "                                production_companies release_date  \\\n",
       "0  [Universal Studios, Amblin Entertainment, Lege...   2015-06-09   \n",
       "1  [Universal Studios, Amblin Entertainment, Lege...   2015-06-09   \n",
       "\n",
       "  release_year     revenue   revenue_adj  runtime            tagline  \\\n",
       "0         2015  1513528810  1.392446e+09      124  The park is open.   \n",
       "1         2015  1513528810  1.392446e+09      124  The park is open.   \n",
       "\n",
       "  vote_average  vote_count  \n",
       "0          6.5        5562  \n",
       "1          6.5        5562  \n",
       "\n",
       "[2 rows x 21 columns]"
      ]
     },
     "execution_count": 28,
     "metadata": {},
     "output_type": "execute_result"
    }
   ],
   "source": [
    "df_genres = splitDataFrameList(df,'genres')\n",
    "df_genres.head(2)"
   ]
  },
  {
   "cell_type": "markdown",
   "metadata": {},
   "source": [
    "Just from the two rows above it can be seen that data has been duplicated and genres have been divided into different rows. "
   ]
  },
  {
   "cell_type": "code",
   "execution_count": 29,
   "metadata": {},
   "outputs": [
    {
     "data": {
      "text/plain": [
       "genres\n",
       "Action             9.206722e+07\n",
       "Adventure          1.422555e+08\n",
       "Animation          8.975005e+07\n",
       "Comedy             4.812243e+07\n",
       "Crime              5.667827e+07\n",
       "Documentary        2.425647e+06\n",
       "Drama              4.053378e+07\n",
       "Family             8.896531e+07\n",
       "Fantasy            1.122142e+08\n",
       "Foreign            1.762528e+06\n",
       "History            4.852978e+07\n",
       "Horror             2.409743e+07\n",
       "Music              4.770555e+07\n",
       "Mystery            5.101526e+07\n",
       "Romance            4.830658e+07\n",
       "Science Fiction    8.754830e+07\n",
       "TV Movie           3.604266e+05\n",
       "Thriller           5.538135e+07\n",
       "War                7.050840e+07\n",
       "Western            4.638237e+07\n",
       "Name: revenue_adj, dtype: float64"
      ]
     },
     "execution_count": 29,
     "metadata": {},
     "output_type": "execute_result"
    }
   ],
   "source": [
    "mean_rev_per_genre = df_genres.groupby('genres')['revenue_adj'].mean()\n",
    "mean_rev_per_genre"
   ]
  },
  {
   "cell_type": "code",
   "execution_count": 30,
   "metadata": {},
   "outputs": [
    {
     "data": {
      "text/plain": [
       "142255467.8765137"
      ]
     },
     "execution_count": 30,
     "metadata": {},
     "output_type": "execute_result"
    }
   ],
   "source": [
    "max_revenue = mean_rev_per_genre.max()\n",
    "max_revenue"
   ]
  },
  {
   "cell_type": "code",
   "execution_count": 31,
   "metadata": {},
   "outputs": [],
   "source": [
    "#https://preinventedwheel.com/easy-matplotlib-bar-chart/\n",
    "mean_rev_per_genre_sorted = mean_rev_per_genre.sort_values(ascending=False)"
   ]
  },
  {
   "cell_type": "code",
   "execution_count": 32,
   "metadata": {},
   "outputs": [],
   "source": [
    "def draw_bar_plot(data, title, xLabel, yLabel, fig=(15,10)): \n",
    "    \"\"\"\n",
    "    Draws a bar plot\n",
    "\n",
    "    Args:\n",
    "        (Series) - Series with data     \n",
    "        (str) - Plot title\n",
    "        (str) - Label for x axis\n",
    "        (str) - Label for y axis\n",
    "    \"\"\"\n",
    "    locations = range(len(data.index))\n",
    "    plt.figure(figsize=fig)\n",
    "    plt.xticks(rotation=90, fontsize=14)\n",
    "    plt.yticks(fontsize=14)\n",
    "    plt.title(title, fontsize='18')\n",
    "    plt.xlabel(xLabel, fontsize=14)\n",
    "    plt.ylabel(yLabel, fontsize=14)\n",
    "    plt.bar(locations,data, tick_label=data.index);"
   ]
  },
  {
   "cell_type": "code",
   "execution_count": 33,
   "metadata": {},
   "outputs": [
    {
     "data": {
      "image/png": "[encoded data removed]",
      "text/plain": [
       "<Figure size 1080x720 with 1 Axes>"
      ]
     },
     "metadata": {},
     "output_type": "display_data"
    }
   ],
   "source": [
    "draw_bar_plot(mean_rev_per_genre_sorted, 'Average Revenue per Genre', 'Genre', 'Average Revenue')"
   ]
  },
  {
   "cell_type": "markdown",
   "metadata": {},
   "source": [
    "It can easily be seen from the plot that Adventure genre is the one with max average revenue - with 142255467.8765137 USD (2010). "
   ]
  },
  {
   "cell_type": "markdown",
   "metadata": {},
   "source": [
    "<a id='q3'></a>\n",
    "### Research Question 3- Which genres are most popular from year to year? "
   ]
  },
  {
   "cell_type": "code",
   "execution_count": 34,
   "metadata": {},
   "outputs": [],
   "source": [
    "#calculate mean popularity for genre per year\n",
    "genre_popularity_by_year = pd.DataFrame(df_genres.groupby(['release_year', 'genres'], as_index=False)['popularity'].mean())\n",
    "genre_popularity_by_year.rename(columns={'popularity':'mean_popularity'}, inplace=True)\n",
    "#genre_popularity_by_year.head(14)"
   ]
  },
  {
   "cell_type": "code",
   "execution_count": 35,
   "metadata": {},
   "outputs": [],
   "source": [
    "#get the max popularity for each year\n",
    "max_mean_pop_per_year = genre_popularity_by_year.groupby(['release_year'], as_index=False)['mean_popularity'].max()\n",
    "max_mean_pop_per_year.rename(columns={'mean_popularity':'mean_popularity_max'}, inplace=True)\n",
    "#max_mean_pop_per_year.head()"
   ]
  },
  {
   "cell_type": "code",
   "execution_count": 36,
   "metadata": {},
   "outputs": [
    {
     "data": {
      "text/html": [
       "<div>\n",
       "<style scoped>\n",
       "    .dataframe tbody tr th:only-of-type {\n",
       "        vertical-align: middle;\n",
       "    }\n",
       "\n",
       "    .dataframe tbody tr th {\n",
       "        vertical-align: top;\n",
       "    }\n",
       "\n",
       "    .dataframe thead th {\n",
       "        text-align: right;\n",
       "    }\n",
       "</style>\n",
       "<table border=\"1\" class=\"dataframe\">\n",
       "  <thead>\n",
       "    <tr style=\"text-align: right;\">\n",
       "      <th></th>\n",
       "      <th>release_year</th>\n",
       "      <th>mean_popularity_max</th>\n",
       "      <th>genres</th>\n",
       "    </tr>\n",
       "  </thead>\n",
       "  <tbody>\n",
       "    <tr>\n",
       "      <th>0</th>\n",
       "      <td>1960</td>\n",
       "      <td>0.811910</td>\n",
       "      <td>Thriller</td>\n",
       "    </tr>\n",
       "    <tr>\n",
       "      <th>1</th>\n",
       "      <td>1961</td>\n",
       "      <td>2.631987</td>\n",
       "      <td>Animation</td>\n",
       "    </tr>\n",
       "    <tr>\n",
       "      <th>2</th>\n",
       "      <td>1962</td>\n",
       "      <td>0.942513</td>\n",
       "      <td>Adventure</td>\n",
       "    </tr>\n",
       "    <tr>\n",
       "      <th>3</th>\n",
       "      <td>1963</td>\n",
       "      <td>2.180410</td>\n",
       "      <td>Animation</td>\n",
       "    </tr>\n",
       "    <tr>\n",
       "      <th>4</th>\n",
       "      <td>1964</td>\n",
       "      <td>0.930959</td>\n",
       "      <td>War</td>\n",
       "    </tr>\n",
       "    <tr>\n",
       "      <th>5</th>\n",
       "      <td>1965</td>\n",
       "      <td>0.968850</td>\n",
       "      <td>Music</td>\n",
       "    </tr>\n",
       "    <tr>\n",
       "      <th>6</th>\n",
       "      <td>1966</td>\n",
       "      <td>0.585717</td>\n",
       "      <td>Animation</td>\n",
       "    </tr>\n",
       "    <tr>\n",
       "      <th>7</th>\n",
       "      <td>1967</td>\n",
       "      <td>2.550704</td>\n",
       "      <td>Animation</td>\n",
       "    </tr>\n",
       "    <tr>\n",
       "      <th>8</th>\n",
       "      <td>1968</td>\n",
       "      <td>1.519456</td>\n",
       "      <td>Mystery</td>\n",
       "    </tr>\n",
       "    <tr>\n",
       "      <th>9</th>\n",
       "      <td>1969</td>\n",
       "      <td>0.948020</td>\n",
       "      <td>Crime</td>\n",
       "    </tr>\n",
       "    <tr>\n",
       "      <th>10</th>\n",
       "      <td>1970</td>\n",
       "      <td>1.127718</td>\n",
       "      <td>Animation</td>\n",
       "    </tr>\n",
       "    <tr>\n",
       "      <th>11</th>\n",
       "      <td>1971</td>\n",
       "      <td>1.530722</td>\n",
       "      <td>Family</td>\n",
       "    </tr>\n",
       "    <tr>\n",
       "      <th>12</th>\n",
       "      <td>1971</td>\n",
       "      <td>1.530722</td>\n",
       "      <td>Fantasy</td>\n",
       "    </tr>\n",
       "    <tr>\n",
       "      <th>13</th>\n",
       "      <td>1972</td>\n",
       "      <td>1.072768</td>\n",
       "      <td>Crime</td>\n",
       "    </tr>\n",
       "    <tr>\n",
       "      <th>14</th>\n",
       "      <td>1973</td>\n",
       "      <td>0.956526</td>\n",
       "      <td>Animation</td>\n",
       "    </tr>\n",
       "    <tr>\n",
       "      <th>15</th>\n",
       "      <td>1974</td>\n",
       "      <td>0.702035</td>\n",
       "      <td>Mystery</td>\n",
       "    </tr>\n",
       "    <tr>\n",
       "      <th>16</th>\n",
       "      <td>1975</td>\n",
       "      <td>0.880297</td>\n",
       "      <td>Adventure</td>\n",
       "    </tr>\n",
       "    <tr>\n",
       "      <th>17</th>\n",
       "      <td>1976</td>\n",
       "      <td>0.707249</td>\n",
       "      <td>Crime</td>\n",
       "    </tr>\n",
       "    <tr>\n",
       "      <th>18</th>\n",
       "      <td>1977</td>\n",
       "      <td>1.419319</td>\n",
       "      <td>Action</td>\n",
       "    </tr>\n",
       "    <tr>\n",
       "      <th>19</th>\n",
       "      <td>1978</td>\n",
       "      <td>0.679805</td>\n",
       "      <td>Music</td>\n",
       "    </tr>\n",
       "    <tr>\n",
       "      <th>20</th>\n",
       "      <td>1979</td>\n",
       "      <td>1.410014</td>\n",
       "      <td>Action</td>\n",
       "    </tr>\n",
       "    <tr>\n",
       "      <th>21</th>\n",
       "      <td>1980</td>\n",
       "      <td>0.897143</td>\n",
       "      <td>Science Fiction</td>\n",
       "    </tr>\n",
       "    <tr>\n",
       "      <th>22</th>\n",
       "      <td>1981</td>\n",
       "      <td>0.875815</td>\n",
       "      <td>Adventure</td>\n",
       "    </tr>\n",
       "    <tr>\n",
       "      <th>23</th>\n",
       "      <td>1982</td>\n",
       "      <td>1.143183</td>\n",
       "      <td>War</td>\n",
       "    </tr>\n",
       "    <tr>\n",
       "      <th>24</th>\n",
       "      <td>1983</td>\n",
       "      <td>0.900596</td>\n",
       "      <td>Adventure</td>\n",
       "    </tr>\n",
       "    <tr>\n",
       "      <th>25</th>\n",
       "      <td>1984</td>\n",
       "      <td>0.823924</td>\n",
       "      <td>Family</td>\n",
       "    </tr>\n",
       "    <tr>\n",
       "      <th>26</th>\n",
       "      <td>1985</td>\n",
       "      <td>0.924311</td>\n",
       "      <td>Family</td>\n",
       "    </tr>\n",
       "    <tr>\n",
       "      <th>27</th>\n",
       "      <td>1986</td>\n",
       "      <td>0.798935</td>\n",
       "      <td>Adventure</td>\n",
       "    </tr>\n",
       "    <tr>\n",
       "      <th>28</th>\n",
       "      <td>1987</td>\n",
       "      <td>0.815643</td>\n",
       "      <td>History</td>\n",
       "    </tr>\n",
       "    <tr>\n",
       "      <th>29</th>\n",
       "      <td>1988</td>\n",
       "      <td>0.749364</td>\n",
       "      <td>Animation</td>\n",
       "    </tr>\n",
       "    <tr>\n",
       "      <th>30</th>\n",
       "      <td>1989</td>\n",
       "      <td>1.354143</td>\n",
       "      <td>Animation</td>\n",
       "    </tr>\n",
       "    <tr>\n",
       "      <th>31</th>\n",
       "      <td>1990</td>\n",
       "      <td>0.801768</td>\n",
       "      <td>Adventure</td>\n",
       "    </tr>\n",
       "    <tr>\n",
       "      <th>32</th>\n",
       "      <td>1991</td>\n",
       "      <td>1.665002</td>\n",
       "      <td>Animation</td>\n",
       "    </tr>\n",
       "    <tr>\n",
       "      <th>33</th>\n",
       "      <td>1992</td>\n",
       "      <td>1.286893</td>\n",
       "      <td>Animation</td>\n",
       "    </tr>\n",
       "    <tr>\n",
       "      <th>34</th>\n",
       "      <td>1993</td>\n",
       "      <td>0.918601</td>\n",
       "      <td>Fantasy</td>\n",
       "    </tr>\n",
       "    <tr>\n",
       "      <th>35</th>\n",
       "      <td>1994</td>\n",
       "      <td>1.297888</td>\n",
       "      <td>Crime</td>\n",
       "    </tr>\n",
       "    <tr>\n",
       "      <th>36</th>\n",
       "      <td>1995</td>\n",
       "      <td>1.467780</td>\n",
       "      <td>Animation</td>\n",
       "    </tr>\n",
       "    <tr>\n",
       "      <th>37</th>\n",
       "      <td>1996</td>\n",
       "      <td>0.976838</td>\n",
       "      <td>Crime</td>\n",
       "    </tr>\n",
       "    <tr>\n",
       "      <th>38</th>\n",
       "      <td>1997</td>\n",
       "      <td>1.140241</td>\n",
       "      <td>Science Fiction</td>\n",
       "    </tr>\n",
       "    <tr>\n",
       "      <th>39</th>\n",
       "      <td>1998</td>\n",
       "      <td>1.246619</td>\n",
       "      <td>War</td>\n",
       "    </tr>\n",
       "    <tr>\n",
       "      <th>40</th>\n",
       "      <td>1999</td>\n",
       "      <td>1.012306</td>\n",
       "      <td>Adventure</td>\n",
       "    </tr>\n",
       "    <tr>\n",
       "      <th>41</th>\n",
       "      <td>2000</td>\n",
       "      <td>0.854593</td>\n",
       "      <td>Adventure</td>\n",
       "    </tr>\n",
       "    <tr>\n",
       "      <th>42</th>\n",
       "      <td>2001</td>\n",
       "      <td>1.565260</td>\n",
       "      <td>Fantasy</td>\n",
       "    </tr>\n",
       "    <tr>\n",
       "      <th>43</th>\n",
       "      <td>2002</td>\n",
       "      <td>1.430465</td>\n",
       "      <td>Fantasy</td>\n",
       "    </tr>\n",
       "    <tr>\n",
       "      <th>44</th>\n",
       "      <td>2003</td>\n",
       "      <td>1.747524</td>\n",
       "      <td>Fantasy</td>\n",
       "    </tr>\n",
       "    <tr>\n",
       "      <th>45</th>\n",
       "      <td>2004</td>\n",
       "      <td>1.320568</td>\n",
       "      <td>Fantasy</td>\n",
       "    </tr>\n",
       "    <tr>\n",
       "      <th>46</th>\n",
       "      <td>2005</td>\n",
       "      <td>1.146827</td>\n",
       "      <td>Fantasy</td>\n",
       "    </tr>\n",
       "    <tr>\n",
       "      <th>47</th>\n",
       "      <td>2006</td>\n",
       "      <td>1.023134</td>\n",
       "      <td>Fantasy</td>\n",
       "    </tr>\n",
       "    <tr>\n",
       "      <th>48</th>\n",
       "      <td>2007</td>\n",
       "      <td>0.957349</td>\n",
       "      <td>Fantasy</td>\n",
       "    </tr>\n",
       "    <tr>\n",
       "      <th>49</th>\n",
       "      <td>2008</td>\n",
       "      <td>1.008385</td>\n",
       "      <td>Adventure</td>\n",
       "    </tr>\n",
       "    <tr>\n",
       "      <th>50</th>\n",
       "      <td>2009</td>\n",
       "      <td>1.153656</td>\n",
       "      <td>Adventure</td>\n",
       "    </tr>\n",
       "    <tr>\n",
       "      <th>51</th>\n",
       "      <td>2010</td>\n",
       "      <td>1.378913</td>\n",
       "      <td>Adventure</td>\n",
       "    </tr>\n",
       "    <tr>\n",
       "      <th>52</th>\n",
       "      <td>2011</td>\n",
       "      <td>1.175800</td>\n",
       "      <td>Western</td>\n",
       "    </tr>\n",
       "    <tr>\n",
       "      <th>53</th>\n",
       "      <td>2012</td>\n",
       "      <td>1.732778</td>\n",
       "      <td>Western</td>\n",
       "    </tr>\n",
       "    <tr>\n",
       "      <th>54</th>\n",
       "      <td>2013</td>\n",
       "      <td>1.294491</td>\n",
       "      <td>Adventure</td>\n",
       "    </tr>\n",
       "    <tr>\n",
       "      <th>55</th>\n",
       "      <td>2014</td>\n",
       "      <td>2.430526</td>\n",
       "      <td>Adventure</td>\n",
       "    </tr>\n",
       "    <tr>\n",
       "      <th>56</th>\n",
       "      <td>2015</td>\n",
       "      <td>3.283786</td>\n",
       "      <td>Adventure</td>\n",
       "    </tr>\n",
       "  </tbody>\n",
       "</table>\n",
       "</div>"
      ],
      "text/plain": [
       "    release_year  mean_popularity_max           genres\n",
       "0           1960             0.811910         Thriller\n",
       "1           1961             2.631987        Animation\n",
       "2           1962             0.942513        Adventure\n",
       "3           1963             2.180410        Animation\n",
       "4           1964             0.930959              War\n",
       "5           1965             0.968850            Music\n",
       "6           1966             0.585717        Animation\n",
       "7           1967             2.550704        Animation\n",
       "8           1968             1.519456          Mystery\n",
       "9           1969             0.948020            Crime\n",
       "10          1970             1.127718        Animation\n",
       "11          1971             1.530722           Family\n",
       "12          1971             1.530722          Fantasy\n",
       "13          1972             1.072768            Crime\n",
       "14          1973             0.956526        Animation\n",
       "15          1974             0.702035          Mystery\n",
       "16          1975             0.880297        Adventure\n",
       "17          1976             0.707249            Crime\n",
       "18          1977             1.419319           Action\n",
       "19          1978             0.679805            Music\n",
       "20          1979             1.410014           Action\n",
       "21          1980             0.897143  Science Fiction\n",
       "22          1981             0.875815        Adventure\n",
       "23          1982             1.143183              War\n",
       "24          1983             0.900596        Adventure\n",
       "25          1984             0.823924           Family\n",
       "26          1985             0.924311           Family\n",
       "27          1986             0.798935        Adventure\n",
       "28          1987             0.815643          History\n",
       "29          1988             0.749364        Animation\n",
       "30          1989             1.354143        Animation\n",
       "31          1990             0.801768        Adventure\n",
       "32          1991             1.665002        Animation\n",
       "33          1992             1.286893        Animation\n",
       "34          1993             0.918601          Fantasy\n",
       "35          1994             1.297888            Crime\n",
       "36          1995             1.467780        Animation\n",
       "37          1996             0.976838            Crime\n",
       "38          1997             1.140241  Science Fiction\n",
       "39          1998             1.246619              War\n",
       "40          1999             1.012306        Adventure\n",
       "41          2000             0.854593        Adventure\n",
       "42          2001             1.565260          Fantasy\n",
       "43          2002             1.430465          Fantasy\n",
       "44          2003             1.747524          Fantasy\n",
       "45          2004             1.320568          Fantasy\n",
       "46          2005             1.146827          Fantasy\n",
       "47          2006             1.023134          Fantasy\n",
       "48          2007             0.957349          Fantasy\n",
       "49          2008             1.008385        Adventure\n",
       "50          2009             1.153656        Adventure\n",
       "51          2010             1.378913        Adventure\n",
       "52          2011             1.175800          Western\n",
       "53          2012             1.732778          Western\n",
       "54          2013             1.294491        Adventure\n",
       "55          2014             2.430526        Adventure\n",
       "56          2015             3.283786        Adventure"
      ]
     },
     "execution_count": 36,
     "metadata": {},
     "output_type": "execute_result"
    }
   ],
   "source": [
    "#merge genre_popularity_by_year with max_mean_pop_per_year to get the genre for each max\n",
    "most_popular_genre_per_year = max_mean_pop_per_year.merge(genre_popularity_by_year, how='left',left_on=max_mean_pop_per_year['mean_popularity_max'], right_on=genre_popularity_by_year['mean_popularity'])\n",
    "most_popular_genre_per_year.drop(['key_0','release_year_y',  'mean_popularity'], axis=1, inplace=True)\n",
    "most_popular_genre_per_year.rename(columns={'release_year_x':'release_year'}, inplace=True)\n",
    "most_popular_genre_per_year"
   ]
  },
  {
   "cell_type": "markdown",
   "metadata": {},
   "source": [
    "The above information shows the most popular genre per year and it's popularity value.\n",
    "<p>For achieving this result it was necessary to:</p>\n",
    "1. Calculate the mean popularity for each genre per year\n",
    "1. Calculate the max popularity for each year\n",
    "1. Merge both information to get no only the max popularity for each year but to which genre it belonged. \n",
    "\n",
    "<p>Let's check the information on a bar chart. "
   ]
  },
  {
   "cell_type": "code",
   "execution_count": 37,
   "metadata": {},
   "outputs": [],
   "source": [
    "#https://jaxenter.com/implement-switch-case-statement-python-138315.html\n",
    "def switch_color(genre):\n",
    "    \"\"\"\n",
    "    Returns a hex color code for a genre\n",
    "\n",
    "    Args:\n",
    "        (str) - genre to switch from\n",
    "    Returns:\n",
    "        A string with hex value for the passed genre\n",
    "    \"\"\"\n",
    "    switcher = {\n",
    "        'Thriller': \"#2e8b57\",\n",
    "        'Animation': \"#adf7c2\",\n",
    "        'Adventure': \"#ff1a72\",\n",
    "        'War': \"#3933c9\",\n",
    "        'Music': \"#fa959f\",\n",
    "        'Mystery': \"#5a80b4\",\n",
    "        'Crime': \"#40e0d0\",\n",
    "        'Family': \"#088da5\",\n",
    "        'Fantasy': \"#718da5\",\n",
    "        'Action': \"#f6546a\",\n",
    "        'Science Fiction': \"#2c4b25\",\n",
    "        'History': \"#ffe638\",\n",
    "        'Western': \"#ffd5f9\",\n",
    "        'Comedy': \"#899982\",\n",
    "        'Drama': \"#00ffff\",\n",
    "        'Foreign': \"#bf00ff\",\n",
    "        'Horror': \"#ff0000\",\n",
    "        'Romance': \"#ff00ff\",\n",
    "        'TV Movie': \"#ff8000\",\n",
    "        'Documentary': \"#cc6666\"\n",
    "    }\n",
    "    return switcher.get(genre)"
   ]
  },
  {
   "cell_type": "code",
   "execution_count": 38,
   "metadata": {},
   "outputs": [],
   "source": [
    "def get_colors(ls_genres):\n",
    "    \"\"\"\n",
    "    Returns list of hex color codes\n",
    "\n",
    "    Args:\n",
    "        (np.array) - array of genres\n",
    "    Returns:\n",
    "        A list of hex color values. \n",
    "    \"\"\"\n",
    "    colors = []    \n",
    "    for i in range(len(ls_genres)):\n",
    "        color = switch_color(ls_genres[i])       \n",
    "        colors.append(color)\n",
    "            \n",
    "    return colors  "
   ]
  },
  {
   "cell_type": "code",
   "execution_count": 39,
   "metadata": {},
   "outputs": [],
   "source": [
    "def create_patches(ls_genres):\n",
    "    \"\"\"\n",
    "    Returns list of patches\n",
    "\n",
    "    Args:\n",
    "        (np.array) - array of genres\n",
    "    Returns:\n",
    "        A list of patches. \n",
    "    \"\"\"\n",
    "    #https://matplotlib.org/users/legend_guide.html\n",
    "    patches = []    \n",
    "    for genre in ls_genres:\n",
    "        patch = mpatches.Patch(color=switch_color(genre), label=genre)\n",
    "        patches.append(patch)\n",
    "        \n",
    "    return patches"
   ]
  },
  {
   "cell_type": "code",
   "execution_count": 40,
   "metadata": {
    "scrolled": false
   },
   "outputs": [
    {
     "data": {
      "image/png": "[encoded data removed]",
      "text/plain": [
       "<Figure size 720x1440 with 1 Axes>"
      ]
     },
     "metadata": {},
     "output_type": "display_data"
    }
   ],
   "source": [
    "locations = np.array(range(len(most_popular_genre_per_year['release_year'])))\n",
    "heights = np.array(most_popular_genre_per_year['mean_popularity_max'])\n",
    "labels = np.array(most_popular_genre_per_year['release_year'])\n",
    "genres = np.array(most_popular_genre_per_year['genres'])\n",
    "colors = get_colors(genres)\n",
    "\n",
    "plt.figure(figsize=(10,20))\n",
    "\n",
    "plt.xticks(fontsize=14)\n",
    "plt.yticks(fontsize=14)\n",
    "plt.title('Most popular genre per year', fontsize='18')\n",
    "plt.xlabel('Popularity mean', fontsize=14)\n",
    "plt.ylabel('Year', fontsize=14)\n",
    "\n",
    "#https://matplotlib.org/users/legend_guide.html\n",
    "legend = plt.legend(handles= create_patches(np.array(most_popular_genre_per_year['genres'].unique())), fontsize=14, shadow=True, facecolor='w', framealpha=1, frameon=True)\n",
    "#https://stackoverflow.com/questions/30729473/seaborn-legend-with-background-color\n",
    "#frame_on=True for the frame to be seen using sns\n",
    "\n",
    "plt.barh(locations, heights, tick_label=labels, color=colors);"
   ]
  },
  {
   "cell_type": "markdown",
   "metadata": {},
   "source": [
    "The above plot shows in a more graphic way the information from `most_popular_genre_per_year` dataframe. "
   ]
  },
  {
   "cell_type": "markdown",
   "metadata": {},
   "source": [
    "<a id='q4'></a>\n",
    "### Research Question 4- Which year produced more revenue?"
   ]
  },
  {
   "cell_type": "code",
   "execution_count": 41,
   "metadata": {},
   "outputs": [
    {
     "data": {
      "text/plain": [
       "release_year\n",
       "2015    2.462144e+10\n",
       "2012    2.339698e+10\n",
       "2013    2.312342e+10\n",
       "2011    2.297046e+10\n",
       "2009    2.254393e+10\n",
       "Name: revenue_adj, dtype: float64"
      ]
     },
     "execution_count": 41,
     "metadata": {},
     "output_type": "execute_result"
    }
   ],
   "source": [
    "sorted_rev_per_year = df.groupby('release_year')['revenue_adj'].sum()\n",
    "sorted_rev_per_year.sort_values(ascending=False, inplace=True)\n",
    "sorted_rev_per_year.head()"
   ]
  },
  {
   "cell_type": "code",
   "execution_count": 42,
   "metadata": {},
   "outputs": [
    {
     "data": {
      "image/png": "[encoded data removed]",
      "text/plain": [
       "<Figure size 1296x720 with 1 Axes>"
      ]
     },
     "metadata": {},
     "output_type": "display_data"
    }
   ],
   "source": [
    "draw_bar_plot(sorted_rev_per_year, 'Revenue per year', 'Year', 'Revenue in 2010 USD', (18,10))"
   ]
  },
  {
   "cell_type": "code",
   "execution_count": 43,
   "metadata": {},
   "outputs": [
    {
     "data": {
      "text/plain": [
       "24621443643.124752"
      ]
     },
     "execution_count": 43,
     "metadata": {},
     "output_type": "execute_result"
    }
   ],
   "source": [
    "sorted_rev_per_year.max()"
   ]
  },
  {
   "cell_type": "markdown",
   "metadata": {},
   "source": [
    "It can be seen both from `sorted_rev_per_year` and from the plot that 2015 was the year that produces more revenue, with 24621443643.124752 USD(2010)."
   ]
  },
  {
   "cell_type": "markdown",
   "metadata": {},
   "source": [
    "<a id='q5'></a>\n",
    "### Research Question 5- What's the average revenue per genre per year?"
   ]
  },
  {
   "cell_type": "code",
   "execution_count": 44,
   "metadata": {},
   "outputs": [
    {
     "data": {
      "text/html": [
       "<div>\n",
       "<style scoped>\n",
       "    .dataframe tbody tr th:only-of-type {\n",
       "        vertical-align: middle;\n",
       "    }\n",
       "\n",
       "    .dataframe tbody tr th {\n",
       "        vertical-align: top;\n",
       "    }\n",
       "\n",
       "    .dataframe thead th {\n",
       "        text-align: right;\n",
       "    }\n",
       "</style>\n",
       "<table border=\"1\" class=\"dataframe\">\n",
       "  <thead>\n",
       "    <tr style=\"text-align: right;\">\n",
       "      <th></th>\n",
       "      <th>release_year</th>\n",
       "      <th>genres</th>\n",
       "      <th>mean_revenue_adj</th>\n",
       "    </tr>\n",
       "  </thead>\n",
       "  <tbody>\n",
       "    <tr>\n",
       "      <th>0</th>\n",
       "      <td>1960</td>\n",
       "      <td>Action</td>\n",
       "      <td>5.981781e+07</td>\n",
       "    </tr>\n",
       "    <tr>\n",
       "      <th>1</th>\n",
       "      <td>1960</td>\n",
       "      <td>Adventure</td>\n",
       "      <td>7.232881e+06</td>\n",
       "    </tr>\n",
       "    <tr>\n",
       "      <th>2</th>\n",
       "      <td>1960</td>\n",
       "      <td>Comedy</td>\n",
       "      <td>4.432997e+07</td>\n",
       "    </tr>\n",
       "    <tr>\n",
       "      <th>3</th>\n",
       "      <td>1960</td>\n",
       "      <td>Crime</td>\n",
       "      <td>0.000000e+00</td>\n",
       "    </tr>\n",
       "    <tr>\n",
       "      <th>4</th>\n",
       "      <td>1960</td>\n",
       "      <td>Drama</td>\n",
       "      <td>6.975962e+07</td>\n",
       "    </tr>\n",
       "    <tr>\n",
       "      <th>5</th>\n",
       "      <td>1960</td>\n",
       "      <td>Family</td>\n",
       "      <td>2.457656e+07</td>\n",
       "    </tr>\n",
       "    <tr>\n",
       "      <th>6</th>\n",
       "      <td>1960</td>\n",
       "      <td>Fantasy</td>\n",
       "      <td>0.000000e+00</td>\n",
       "    </tr>\n",
       "    <tr>\n",
       "      <th>7</th>\n",
       "      <td>1960</td>\n",
       "      <td>Foreign</td>\n",
       "      <td>0.000000e+00</td>\n",
       "    </tr>\n",
       "    <tr>\n",
       "      <th>8</th>\n",
       "      <td>1960</td>\n",
       "      <td>History</td>\n",
       "      <td>8.847561e+07</td>\n",
       "    </tr>\n",
       "    <tr>\n",
       "      <th>9</th>\n",
       "      <td>1960</td>\n",
       "      <td>Horror</td>\n",
       "      <td>3.370499e+07</td>\n",
       "    </tr>\n",
       "    <tr>\n",
       "      <th>10</th>\n",
       "      <td>1960</td>\n",
       "      <td>Music</td>\n",
       "      <td>0.000000e+00</td>\n",
       "    </tr>\n",
       "    <tr>\n",
       "      <th>11</th>\n",
       "      <td>1960</td>\n",
       "      <td>Romance</td>\n",
       "      <td>4.681834e+07</td>\n",
       "    </tr>\n",
       "    <tr>\n",
       "      <th>12</th>\n",
       "      <td>1960</td>\n",
       "      <td>Science Fiction</td>\n",
       "      <td>0.000000e+00</td>\n",
       "    </tr>\n",
       "    <tr>\n",
       "      <th>13</th>\n",
       "      <td>1960</td>\n",
       "      <td>Thriller</td>\n",
       "      <td>3.932249e+07</td>\n",
       "    </tr>\n",
       "    <tr>\n",
       "      <th>14</th>\n",
       "      <td>1960</td>\n",
       "      <td>War</td>\n",
       "      <td>0.000000e+00</td>\n",
       "    </tr>\n",
       "    <tr>\n",
       "      <th>15</th>\n",
       "      <td>1960</td>\n",
       "      <td>Western</td>\n",
       "      <td>6.027401e+06</td>\n",
       "    </tr>\n",
       "    <tr>\n",
       "      <th>16</th>\n",
       "      <td>1961</td>\n",
       "      <td>Action</td>\n",
       "      <td>3.459848e+07</td>\n",
       "    </tr>\n",
       "    <tr>\n",
       "      <th>17</th>\n",
       "      <td>1961</td>\n",
       "      <td>Adventure</td>\n",
       "      <td>2.976060e+08</td>\n",
       "    </tr>\n",
       "    <tr>\n",
       "      <th>18</th>\n",
       "      <td>1961</td>\n",
       "      <td>Animation</td>\n",
       "      <td>1.574815e+09</td>\n",
       "    </tr>\n",
       "    <tr>\n",
       "      <th>19</th>\n",
       "      <td>1961</td>\n",
       "      <td>Comedy</td>\n",
       "      <td>1.709770e+08</td>\n",
       "    </tr>\n",
       "  </tbody>\n",
       "</table>\n",
       "</div>"
      ],
      "text/plain": [
       "    release_year           genres  mean_revenue_adj\n",
       "0           1960           Action      5.981781e+07\n",
       "1           1960        Adventure      7.232881e+06\n",
       "2           1960           Comedy      4.432997e+07\n",
       "3           1960            Crime      0.000000e+00\n",
       "4           1960            Drama      6.975962e+07\n",
       "5           1960           Family      2.457656e+07\n",
       "6           1960          Fantasy      0.000000e+00\n",
       "7           1960          Foreign      0.000000e+00\n",
       "8           1960          History      8.847561e+07\n",
       "9           1960           Horror      3.370499e+07\n",
       "10          1960            Music      0.000000e+00\n",
       "11          1960          Romance      4.681834e+07\n",
       "12          1960  Science Fiction      0.000000e+00\n",
       "13          1960         Thriller      3.932249e+07\n",
       "14          1960              War      0.000000e+00\n",
       "15          1960          Western      6.027401e+06\n",
       "16          1961           Action      3.459848e+07\n",
       "17          1961        Adventure      2.976060e+08\n",
       "18          1961        Animation      1.574815e+09\n",
       "19          1961           Comedy      1.709770e+08"
      ]
     },
     "execution_count": 44,
     "metadata": {},
     "output_type": "execute_result"
    }
   ],
   "source": [
    "#calculate mean revenue for genre per year\n",
    "mean_rev_per_year_genre = pd.DataFrame(df_genres.groupby(['release_year', 'genres'], as_index=False)['revenue_adj'].mean())\n",
    "mean_rev_per_year_genre.rename(columns={'revenue_adj':'mean_revenue_adj'}, inplace=True)\n",
    "mean_rev_per_year_genre.head(20)"
   ]
  },
  {
   "cell_type": "markdown",
   "metadata": {},
   "source": [
    "The DataFrame above shows average revenue per genre per year."
   ]
  },
  {
   "cell_type": "markdown",
   "metadata": {},
   "source": [
    "<a id='q6'></a>\n",
    "### Research Question 6- Budget statistics"
   ]
  },
  {
   "cell_type": "code",
   "execution_count": 45,
   "metadata": {},
   "outputs": [
    {
     "data": {
      "text/plain": [
       "count    1.073100e+04\n",
       "mean     1.480365e+07\n",
       "std      3.106456e+07\n",
       "min      0.000000e+00\n",
       "25%      0.000000e+00\n",
       "50%      0.000000e+00\n",
       "75%      1.600000e+07\n",
       "max      4.250000e+08\n",
       "Name: budget, dtype: float64"
      ]
     },
     "execution_count": 45,
     "metadata": {},
     "output_type": "execute_result"
    }
   ],
   "source": [
    "df['budget'].describe()"
   ]
  },
  {
   "cell_type": "markdown",
   "metadata": {},
   "source": [
    "It seems there are several movies with budget 0. As this cannnot be a real data, I'm droping those results and having only movies with budget bigger than 0 on new DataFrame df_budget_clean.\n",
    "Is over this new dataframe that the describe method will be applied. "
   ]
  },
  {
   "cell_type": "code",
   "execution_count": 46,
   "metadata": {},
   "outputs": [
    {
     "data": {
      "text/html": [
       "<div>\n",
       "<style scoped>\n",
       "    .dataframe tbody tr th:only-of-type {\n",
       "        vertical-align: middle;\n",
       "    }\n",
       "\n",
       "    .dataframe tbody tr th {\n",
       "        vertical-align: top;\n",
       "    }\n",
       "\n",
       "    .dataframe thead th {\n",
       "        text-align: right;\n",
       "    }\n",
       "</style>\n",
       "<table border=\"1\" class=\"dataframe\">\n",
       "  <thead>\n",
       "    <tr style=\"text-align: right;\">\n",
       "      <th></th>\n",
       "      <th>budget</th>\n",
       "    </tr>\n",
       "  </thead>\n",
       "  <tbody>\n",
       "    <tr>\n",
       "      <th>count</th>\n",
       "      <td>5.153000e+03</td>\n",
       "    </tr>\n",
       "    <tr>\n",
       "      <th>mean</th>\n",
       "      <td>3.082824e+07</td>\n",
       "    </tr>\n",
       "    <tr>\n",
       "      <th>std</th>\n",
       "      <td>3.893199e+07</td>\n",
       "    </tr>\n",
       "    <tr>\n",
       "      <th>min</th>\n",
       "      <td>1.000000e+00</td>\n",
       "    </tr>\n",
       "    <tr>\n",
       "      <th>25%</th>\n",
       "      <td>6.000000e+06</td>\n",
       "    </tr>\n",
       "    <tr>\n",
       "      <th>50%</th>\n",
       "      <td>1.750000e+07</td>\n",
       "    </tr>\n",
       "    <tr>\n",
       "      <th>75%</th>\n",
       "      <td>4.000000e+07</td>\n",
       "    </tr>\n",
       "    <tr>\n",
       "      <th>max</th>\n",
       "      <td>4.250000e+08</td>\n",
       "    </tr>\n",
       "  </tbody>\n",
       "</table>\n",
       "</div>"
      ],
      "text/plain": [
       "             budget\n",
       "count  5.153000e+03\n",
       "mean   3.082824e+07\n",
       "std    3.893199e+07\n",
       "min    1.000000e+00\n",
       "25%    6.000000e+06\n",
       "50%    1.750000e+07\n",
       "75%    4.000000e+07\n",
       "max    4.250000e+08"
      ]
     },
     "execution_count": 46,
     "metadata": {},
     "output_type": "execute_result"
    }
   ],
   "source": [
    "df_budget_clean = pd.DataFrame(df.query('budget > 0'))\n",
    "stats = pd.DataFrame(df_budget_clean['budget'].describe())\n",
    "stats"
   ]
  },
  {
   "cell_type": "code",
   "execution_count": 47,
   "metadata": {},
   "outputs": [
    {
     "data": {
      "text/plain": [
       "array([150000000, 150000000, 110000000, ...,   5115000,    700000,\n",
       "           19000], dtype=int64)"
      ]
     },
     "execution_count": 47,
     "metadata": {},
     "output_type": "execute_result"
    }
   ],
   "source": [
    "data = np.array(df_budget_clean['budget'])\n",
    "data"
   ]
  },
  {
   "cell_type": "code",
   "execution_count": 48,
   "metadata": {},
   "outputs": [
    {
     "data": {
      "image/png": "[encoded data removed]",
      "text/plain": [
       "<Figure size 720x720 with 1 Axes>"
      ]
     },
     "metadata": {},
     "output_type": "display_data"
    }
   ],
   "source": [
    "plt.figure(figsize = (10,10))\n",
    "\n",
    "plt.title('Budget Statistics', fontsize='18');\n",
    "legend_str = \"\"\n",
    "for x,y in stats.iterrows():\n",
    "    temp = \"{}: {}\".format(x,y[0])\n",
    "    legend_str = legend_str + '\\n' + temp\n",
    "    \n",
    "legend_str = legend_str + '\\nmode: {}'.format(df_budget_clean['budget'].mode()[0])\n",
    "    \n",
    "patches= []\n",
    "patch = mpatches.Patch(label=legend_str, color='white')\n",
    "patches.append(patch)\n",
    "legend = plt.legend(handles=patches, fontsize=14, shadow=True, facecolor='w', framealpha=1, frameon=True)\n",
    "\n",
    "\n",
    "\n",
    "plt.boxplot(data, patch_artist=True); #patch_artist=True for colors"
   ]
  },
  {
   "cell_type": "markdown",
   "metadata": {},
   "source": [
    "<a id='conclusions'></a>\n",
    "## Conclusions"
   ]
  },
  {
   "cell_type": "markdown",
   "metadata": {},
   "source": [
    "From the proposed questions it can be seen there is a positive correlation between popularity and vote_count, vote_average and revenue. \n",
    "<p>However, the correlation is not the same since the correlation between popularity and vote_count is strong, the correlation between popularity and vote_average is weak and the correlation between popularity and revenue_adj is moderate.\n",
    "<p>Though no causation could be inferred, it's plausible to think that when a movie has high popularity is watched by many people, this may help to increase the revenue and to have more people voting. However, if the movie is not good, the vote average may not be either. \n",
    "<p>I learned that the genre that produces more revenue are adventure, fantasy, action, animation, family. \n",
    "<p> The fact that in the top 17 most popular genres are 8 Adventure and 7 Fantasy (also 2 music though music is the only two times that appears on the plot as most popular), supports the idea that popularity is correlated with revenue. \n",
    "<p> Summary statistics from budget can be found on last question and information about average revenue per genre per year on `mean_rev_per_year_genre`."
   ]
  }
 ],
 "metadata": {
  "kernelspec": {
   "display_name": "Python 3",
   "language": "python",
   "name": "python3"
  },
  "language_info": {
   "codemirror_mode": {
    "name": "ipython",
    "version": 3
   },
   "file_extension": ".py",
   "mimetype": "text/x-python",
   "name": "python",
   "nbconvert_exporter": "python",
   "pygments_lexer": "ipython3",
   "version": "3.6.5"
  }
 },
 "nbformat": 4,
 "nbformat_minor": 2
}
